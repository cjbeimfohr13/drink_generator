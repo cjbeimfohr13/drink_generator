{
 "cells": [
  {
   "cell_type": "code",
   "execution_count": 1,
   "metadata": {},
   "outputs": [],
   "source": [
    "import json\n",
    "import requests\n",
    "from pprint import pprint\n"
   ]
  },
  {
   "cell_type": "code",
   "execution_count": 2,
   "metadata": {},
   "outputs": [],
   "source": [
    "url=\"https://www.thecocktaildb.com/api/json/v1/1/random.php\""
   ]
  },
  {
   "cell_type": "code",
   "execution_count": 3,
   "metadata": {},
   "outputs": [
    {
     "data": {
      "text/plain": [
       "{'drinks': [{'idDrink': '14860',\n",
       "   'strDrink': 'Talos Coffee',\n",
       "   'strDrinkAlternate': None,\n",
       "   'strTags': None,\n",
       "   'strVideo': None,\n",
       "   'strCategory': 'Coffee / Tea',\n",
       "   'strIBA': None,\n",
       "   'strAlcoholic': 'Alcoholic',\n",
       "   'strGlass': 'Brandy snifter',\n",
       "   'strInstructions': 'Add your GM and then add your coffee.',\n",
       "   'strInstructionsES': None,\n",
       "   'strInstructionsDE': 'Füge deinen GM und dann deinen Kaffee hinzu.',\n",
       "   'strInstructionsFR': None,\n",
       "   'strInstructionsIT': 'Aggiungi il Grand Marnier e poi aggiungi il tuo caffè.',\n",
       "   'strInstructionsZH-HANS': None,\n",
       "   'strInstructionsZH-HANT': None,\n",
       "   'strDrinkThumb': 'https://www.thecocktaildb.com/images/media/drink/rswqpy1441246518.jpg',\n",
       "   'strIngredient1': 'Grand Marnier',\n",
       "   'strIngredient2': 'Coffee',\n",
       "   'strIngredient3': None,\n",
       "   'strIngredient4': None,\n",
       "   'strIngredient5': None,\n",
       "   'strIngredient6': None,\n",
       "   'strIngredient7': None,\n",
       "   'strIngredient8': None,\n",
       "   'strIngredient9': None,\n",
       "   'strIngredient10': None,\n",
       "   'strIngredient11': None,\n",
       "   'strIngredient12': None,\n",
       "   'strIngredient13': None,\n",
       "   'strIngredient14': None,\n",
       "   'strIngredient15': None,\n",
       "   'strMeasure1': '3 parts ',\n",
       "   'strMeasure2': '1 part ',\n",
       "   'strMeasure3': None,\n",
       "   'strMeasure4': None,\n",
       "   'strMeasure5': None,\n",
       "   'strMeasure6': None,\n",
       "   'strMeasure7': None,\n",
       "   'strMeasure8': None,\n",
       "   'strMeasure9': None,\n",
       "   'strMeasure10': None,\n",
       "   'strMeasure11': None,\n",
       "   'strMeasure12': None,\n",
       "   'strMeasure13': None,\n",
       "   'strMeasure14': None,\n",
       "   'strMeasure15': None,\n",
       "   'strImageSource': None,\n",
       "   'strImageAttribution': None,\n",
       "   'strCreativeCommonsConfirmed': 'No',\n",
       "   'dateModified': '2015-09-03 03:15:18'}]}"
      ]
     },
     "execution_count": 3,
     "metadata": {},
     "output_type": "execute_result"
    }
   ],
   "source": [
    "cocktails=requests.get(url).json()\n",
    "cocktails"
   ]
  },
  {
   "cell_type": "code",
   "execution_count": 4,
   "metadata": {},
   "outputs": [
    {
     "data": {
      "text/plain": [
       "'https://www.thecocktaildb.com/images/media/drink/rswqpy1441246518.jpg'"
      ]
     },
     "execution_count": 4,
     "metadata": {},
     "output_type": "execute_result"
    }
   ],
   "source": [
    "cocktail_image=cocktails[\"drinks\"][0]['strDrinkThumb']\n",
    "cocktail_image"
   ]
  },
  {
   "cell_type": "code",
   "execution_count": 5,
   "metadata": {},
   "outputs": [
    {
     "data": {
      "text/plain": [
       "'Add your GM and then add your coffee.'"
      ]
     },
     "execution_count": 5,
     "metadata": {},
     "output_type": "execute_result"
    }
   ],
   "source": [
    "cocktail_instructions=cocktails[\"drinks\"][0]['strInstructions']\n",
    "cocktail_instructions"
   ]
  },
  {
   "cell_type": "code",
   "execution_count": 6,
   "metadata": {},
   "outputs": [
    {
     "data": {
      "text/plain": [
       "'Talos Coffee'"
      ]
     },
     "execution_count": 6,
     "metadata": {},
     "output_type": "execute_result"
    }
   ],
   "source": [
    "cocktail_name= cocktails[\"drinks\"][0]['strDrink']\n",
    "cocktail_name"
   ]
  },
  {
   "cell_type": "code",
   "execution_count": 9,
   "metadata": {},
   "outputs": [
    {
     "ename": "KeyError",
     "evalue": "('strIngredient1', 'strIngredient2')",
     "output_type": "error",
     "traceback": [
      "\u001b[1;31m---------------------------------------------------------------------------\u001b[0m",
      "\u001b[1;31mKeyError\u001b[0m                                  Traceback (most recent call last)",
      "\u001b[1;32m<ipython-input-9-0960591a2a56>\u001b[0m in \u001b[0;36m<module>\u001b[1;34m\u001b[0m\n\u001b[1;32m----> 1\u001b[1;33m \u001b[0mcocktail_ingredients\u001b[0m\u001b[1;33m=\u001b[0m\u001b[0mcocktails\u001b[0m\u001b[1;33m[\u001b[0m\u001b[1;34m\"drinks\"\u001b[0m\u001b[1;33m]\u001b[0m\u001b[1;33m[\u001b[0m\u001b[1;36m0\u001b[0m\u001b[1;33m]\u001b[0m\u001b[1;33m[\u001b[0m\u001b[1;34m'strIngredient1'\u001b[0m\u001b[1;33m,\u001b[0m\u001b[1;34m'strIngredient2'\u001b[0m\u001b[1;33m]\u001b[0m\u001b[1;33m\u001b[0m\u001b[1;33m\u001b[0m\u001b[0m\n\u001b[0m\u001b[0;32m      2\u001b[0m \u001b[0mcocktail_ingredients\u001b[0m\u001b[1;33m\u001b[0m\u001b[1;33m\u001b[0m\u001b[0m\n",
      "\u001b[1;31mKeyError\u001b[0m: ('strIngredient1', 'strIngredient2')"
     ]
    }
   ],
   "source": [
    "cocktail_ingredients=cocktails[\"drinks\"][0]['strIngredient1']\n",
    "cocktail_ingredients"
   ]
  },
  {
   "cell_type": "code",
   "execution_count": null,
   "metadata": {},
   "outputs": [],
   "source": [
    "jupyter nbconvert random_cocktails.ipynb --to python"
   ]
  }
 ],
 "metadata": {
  "kernelspec": {
   "display_name": "Python 3",
   "language": "python",
   "name": "python3"
  },
  "language_info": {
   "codemirror_mode": {
    "name": "ipython",
    "version": 3
   },
   "file_extension": ".py",
   "mimetype": "text/x-python",
   "name": "python",
   "nbconvert_exporter": "python",
   "pygments_lexer": "ipython3",
   "version": "3.7.9"
  }
 },
 "nbformat": 4,
 "nbformat_minor": 4
}
