{
 "cells": [
  {
   "cell_type": "code",
   "execution_count": 1,
   "metadata": {},
   "outputs": [],
   "source": [
    "import json\n",
    "import requests\n",
    "from pprint import pprint\n"
   ]
  },
  {
   "cell_type": "code",
   "execution_count": 2,
   "metadata": {},
   "outputs": [],
   "source": [
    "url=\"https://www.thecocktaildb.com/api/json/v1/1/random.php\""
   ]
  },
  {
   "cell_type": "code",
   "execution_count": 8,
   "metadata": {},
   "outputs": [
    {
     "data": {
      "text/plain": [
       "{'drinks': [{'idDrink': '17208',\n",
       "   'strDrink': 'Rose',\n",
       "   'strDrinkAlternate': None,\n",
       "   'strTags': 'IBA,ContemporaryClassic',\n",
       "   'strVideo': None,\n",
       "   'strCategory': 'Ordinary Drink',\n",
       "   'strIBA': 'Contemporary Classics',\n",
       "   'strAlcoholic': 'Alcoholic',\n",
       "   'strGlass': 'Cocktail glass',\n",
       "   'strInstructions': 'Shake together in a cocktail shaker, then strain into chilled glass. Garnish and serve.',\n",
       "   'strInstructionsES': None,\n",
       "   'strInstructionsDE': 'In einem Cocktailshaker vermengen und dann in ein gekühltes Glas abseihen. Garnieren und servieren.',\n",
       "   'strInstructionsFR': None,\n",
       "   'strInstructionsIT': 'Shakerare insieme in uno shaker, quindi filtrare in un bicchiere freddo.\\r\\nGuarnire e servire.',\n",
       "   'strInstructionsZH-HANS': None,\n",
       "   'strInstructionsZH-HANT': None,\n",
       "   'strDrinkThumb': 'https://www.thecocktaildb.com/images/media/drink/8kxbvq1504371462.jpg',\n",
       "   'strIngredient1': 'Dry Vermouth',\n",
       "   'strIngredient2': 'Gin',\n",
       "   'strIngredient3': 'Apricot brandy',\n",
       "   'strIngredient4': 'Lemon juice',\n",
       "   'strIngredient5': 'Grenadine',\n",
       "   'strIngredient6': 'Powdered sugar',\n",
       "   'strIngredient7': None,\n",
       "   'strIngredient8': None,\n",
       "   'strIngredient9': None,\n",
       "   'strIngredient10': None,\n",
       "   'strIngredient11': None,\n",
       "   'strIngredient12': None,\n",
       "   'strIngredient13': None,\n",
       "   'strIngredient14': None,\n",
       "   'strIngredient15': None,\n",
       "   'strMeasure1': '1/2 oz ',\n",
       "   'strMeasure2': '1 oz ',\n",
       "   'strMeasure3': '1/2 oz ',\n",
       "   'strMeasure4': '1/2 tsp ',\n",
       "   'strMeasure5': '1 tsp ',\n",
       "   'strMeasure6': None,\n",
       "   'strMeasure7': None,\n",
       "   'strMeasure8': None,\n",
       "   'strMeasure9': None,\n",
       "   'strMeasure10': None,\n",
       "   'strMeasure11': None,\n",
       "   'strMeasure12': None,\n",
       "   'strMeasure13': None,\n",
       "   'strMeasure14': None,\n",
       "   'strMeasure15': None,\n",
       "   'strImageSource': None,\n",
       "   'strImageAttribution': None,\n",
       "   'strCreativeCommonsConfirmed': 'No',\n",
       "   'dateModified': '2017-09-02 17:57:42'}]}"
      ]
     },
     "execution_count": 8,
     "metadata": {},
     "output_type": "execute_result"
    }
   ],
   "source": [
    "cocktails=requests.get(url).json()\n",
    "cocktails"
   ]
  },
  {
   "cell_type": "code",
   "execution_count": 15,
   "metadata": {},
   "outputs": [
    {
     "data": {
      "text/plain": [
       "'https://www.thecocktaildb.com/images/media/drink/8kxbvq1504371462.jpg'"
      ]
     },
     "execution_count": 15,
     "metadata": {},
     "output_type": "execute_result"
    }
   ],
   "source": [
    "cocktail_image=cocktails[\"drinks\"][0]['strDrinkThumb']\n",
    "cocktail_image"
   ]
  },
  {
   "cell_type": "code",
   "execution_count": 16,
   "metadata": {},
   "outputs": [
    {
     "data": {
      "text/plain": [
       "'Shake together in a cocktail shaker, then strain into chilled glass. Garnish and serve.'"
      ]
     },
     "execution_count": 16,
     "metadata": {},
     "output_type": "execute_result"
    }
   ],
   "source": [
    "cocktail_instructions=cocktails[\"drinks\"][0]['strInstructions']\n",
    "cocktail_instructions"
   ]
  },
  {
   "cell_type": "code",
   "execution_count": 17,
   "metadata": {},
   "outputs": [
    {
     "data": {
      "text/plain": [
       "'Rose'"
      ]
     },
     "execution_count": 17,
     "metadata": {},
     "output_type": "execute_result"
    }
   ],
   "source": [
    "cocktail_name= cocktails[\"drinks\"][0]['strDrink']\n",
    "cocktail_name"
   ]
  },
  {
   "cell_type": "code",
   "execution_count": 19,
   "metadata": {},
   "outputs": [
    {
     "data": {
      "text/plain": [
       "'Dry Vermouth'"
      ]
     },
     "execution_count": 19,
     "metadata": {},
     "output_type": "execute_result"
    }
   ],
   "source": [
    "cocktail_ingredients=cocktails[\"drinks\"][0]['strIngredient1']\n",
    "cocktail_ingredients"
   ]
  },
  {
   "cell_type": "code",
   "execution_count": null,
   "metadata": {},
   "outputs": [],
   "source": []
  }
 ],
 "metadata": {
  "kernelspec": {
   "display_name": "Python 3",
   "language": "python",
   "name": "python3"
  },
  "language_info": {
   "codemirror_mode": {
    "name": "ipython",
    "version": 3
   },
   "file_extension": ".py",
   "mimetype": "text/x-python",
   "name": "python",
   "nbconvert_exporter": "python",
   "pygments_lexer": "ipython3",
   "version": "3.7.9"
  }
 },
 "nbformat": 4,
 "nbformat_minor": 4
}
